{
 "cells": [
  {
   "cell_type": "code",
   "execution_count": 62,
   "metadata": {},
   "outputs": [],
   "source": [
    "import pandas as pd\n",
    "import numpy as np\n",
    "import matplotlib.pyplot as plt\n",
    "from sklearn import datasets\n",
    "from sklearn.model_selection import train_test_split\n",
    "from sklearn.neighbors import KNeighborsClassifier\n",
    "from sklearn.linear_model import LogisticRegression"
   ]
  },
  {
   "cell_type": "code",
   "execution_count": 63,
   "metadata": {},
   "outputs": [],
   "source": [
    "# 0 - true, 1 - false, gt - ground truth, th - threshold\n",
    "\n",
    "def TP(probs, gt, th):\n",
    "    res = 0\n",
    "    for i in range(probs.size):\n",
    "        res += 1 if probs[i] > th and gt[i] == 0 else 0\n",
    "    return res\n",
    "\n",
    "def FP(probs, gt, th):\n",
    "    res = 0\n",
    "    for i in range(probs.size):\n",
    "        res += 1 if probs[i] > th and gt[i] == 1 else 0\n",
    "    return res\n",
    "\n",
    "def TN(probs, gt, th):\n",
    "    res = 0\n",
    "    for i in range(probs.size):\n",
    "        res += 1 if probs[i] < th and gt[i] == 1 else 0\n",
    "    return res\n",
    "\n",
    "def FN(probs, gt, th):\n",
    "    res = 0\n",
    "    for i in range(probs.size):\n",
    "        res += 1 if probs[i] < th and gt[i] == 0 else 0\n",
    "    return res\n",
    "\n",
    "def TPR(probs, gt, th):\n",
    "    return TP(probs, gt, th) / (TP(probs, gt, th) + FN(probs, gt, th))\n",
    "\n",
    "def FPR(probs, gt, th):\n",
    "    return FP(probs, gt, th) / (TN(probs, gt, th) + FP(probs, gt, th))\n",
    "\n",
    "def precision(probs, gt, th):\n",
    "    return TP(probs, gt, th) / (TP(probs, gt, th) + FP(probs, gt, th))\n",
    "\n",
    "def recall(probs, gt, th):\n",
    "    return TPR(probs, gt, th)"
   ]
  },
  {
   "cell_type": "code",
   "execution_count": 126,
   "metadata": {},
   "outputs": [],
   "source": [
    "def drawROC(probs, gt):\n",
    "    ths = probs.copy()\n",
    "    ths.sort()\n",
    "    tprs = [1]\n",
    "    fprs = [1]\n",
    "    for t in ths:\n",
    "        if (TP(probs, gt, t) + FN(probs, gt, t) == 0 or TN(probs, gt, t) + FP(probs, gt, t) == 0):\n",
    "            continue\n",
    "        tprs.append(TPR(probs, gt, t))\n",
    "        fprs.append(FPR(probs, gt, t))\n",
    "    \n",
    "    plt.plot(fprs, tprs)\n",
    "    \n",
    "    area = np.trapz(tprs, fprs)\n",
    "    print('Area :' + str(-1 * area))\n",
    "    \n",
    "def drawPR(probs, gt):\n",
    "    ths = probs.copy()\n",
    "    ths.sort()\n",
    "    rs = [1]\n",
    "    ps = [0]\n",
    "    for t in ths:\n",
    "        if (TP(probs, gt, t) + FN(probs, gt, t) == 0 or TP(probs, gt, t) + FP(probs, gt, t) == 0):\n",
    "            continue\n",
    "        rs.append(recall(probs, gt, t))\n",
    "        ps.append(precision(probs, gt, t))\n",
    "        \n",
    "    rs.append(0)\n",
    "    ps.append(1)\n",
    "    \n",
    "    plt.plot(ps, rs)\n",
    "    plt.xlim([0,1.1])\n",
    "    plt.ylim([0,1.1])\n",
    "    \n",
    "    area = np.trapz(rs, ps)\n",
    "    print('Area :' + str(area))"
   ]
  },
  {
   "cell_type": "code",
   "execution_count": 127,
   "metadata": {},
   "outputs": [],
   "source": [
    "dataset = datasets.load_breast_cancer()\n",
    "x = dataset.data\n",
    "y = dataset.target\n",
    "X_train, X_test, y_train, y_test = train_test_split(x, y, test_size=0.4, random_state=10)"
   ]
  },
  {
   "cell_type": "code",
   "execution_count": 128,
   "metadata": {},
   "outputs": [],
   "source": [
    "#model = LogisticRegression(solver='lbfgs', max_iter=10000, random_state=0)\n",
    "model = KNeighborsClassifier(n_neighbors=20)\n",
    "model.fit(X_train, y_train)\n",
    "probs = model.predict_proba(X_test)[:, 0] # probs: probs - probablitity of 0 class, y_test - gt"
   ]
  },
  {
   "cell_type": "code",
   "execution_count": 129,
   "metadata": {},
   "outputs": [
    {
     "name": "stdout",
     "output_type": "stream",
     "text": [
      "Area :0.9846067051146965\n"
     ]
    },
    {
     "data": {
      "image/png": "[encoded data removed]",
      "text/plain": [
       "<Figure size 432x288 with 1 Axes>"
      ]
     },
     "metadata": {
      "needs_background": "light"
     },
     "output_type": "display_data"
    }
   ],
   "source": [
    "drawROC(probs, y_test)"
   ]
  },
  {
   "cell_type": "code",
   "execution_count": 130,
   "metadata": {},
   "outputs": [
    {
     "name": "stdout",
     "output_type": "stream",
     "text": [
      "Area :0.9710698221818348\n"
     ]
    },
    {
     "data": {
      "image/png": "[encoded data removed]",
      "text/plain": [
       "<Figure size 432x288 with 1 Axes>"
      ]
     },
     "metadata": {
      "needs_background": "light"
     },
     "output_type": "display_data"
    }
   ],
   "source": [
    "drawPR(probs, y_test)"
   ]
  },
  {
   "cell_type": "code",
   "execution_count": null,
   "metadata": {},
   "outputs": [],
   "source": []
  }
 ],
 "metadata": {
  "kernelspec": {
   "display_name": "Python 3",
   "language": "python",
   "name": "python3"
  },
  "language_info": {
   "codemirror_mode": {
    "name": "ipython",
    "version": 3
   },
   "file_extension": ".py",
   "mimetype": "text/x-python",
   "name": "python",
   "nbconvert_exporter": "python",
   "pygments_lexer": "ipython3",
   "version": "3.8.5"
  }
 },
 "nbformat": 4,
 "nbformat_minor": 4
}

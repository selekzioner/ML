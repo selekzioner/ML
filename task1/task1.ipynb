{
 "cells": [
  {
   "cell_type": "code",
   "execution_count": 8,
   "metadata": {},
   "outputs": [],
   "source": [
    "from sklearn.model_selection import train_test_split\n",
    "from sklearn import datasets\n",
    "from sklearn import metrics\n",
    "from matplotlib import pyplot as plt\n",
    "from task1 import *\n",
    "import numpy as np"
   ]
  },
  {
   "cell_type": "code",
   "execution_count": 9,
   "metadata": {},
   "outputs": [
    {
     "name": "stdout",
     "output_type": "stream",
     "text": [
      "(150, 4)\n",
      "(150,)\n"
     ]
    }
   ],
   "source": [
    "# loading dataset\n",
    "\n",
    "dataset = datasets.load_iris()\n",
    "x = dataset.data\n",
    "y = dataset.target\n",
    "train_x, test_x, train_y, test_y = train_test_split(x, y, test_size=0.2, random_state=20)\n",
    "\n",
    "print(x.shape)\n",
    "print(y.shape)"
   ]
  },
  {
   "cell_type": "code",
   "execution_count": 12,
   "metadata": {},
   "outputs": [],
   "source": [
    "# training model\n",
    "\n",
    "model = PotentialFunctionClassifier(10)\n",
    "model.fit(train_x, train_y, 10)"
   ]
  },
  {
   "cell_type": "code",
   "execution_count": 14,
   "metadata": {},
   "outputs": [
    {
     "name": "stdout",
     "output_type": "stream",
     "text": [
      "Test accuracy:  0.9333333333333333\n",
      "Train accuracy:  1.0\n",
      "Full dataset:  0.9866666666666667\n"
     ]
    }
   ],
   "source": [
    "print(\"Test accuracy: \", metrics.accuracy_score(test_y, model.predict(test_x)))\n",
    "print(\"Train accuracy: \", metrics.accuracy_score(train_y, model.predict(train_x)))\n",
    "print(\"Full dataset: \", metrics.accuracy_score(y, model.predict(x)))"
   ]
  },
  {
   "cell_type": "code",
   "execution_count": null,
   "metadata": {},
   "outputs": [],
   "source": []
  }
 ],
 "metadata": {
  "kernelspec": {
   "display_name": "Python 3",
   "language": "python",
   "name": "python3"
  },
  "language_info": {
   "codemirror_mode": {
    "name": "ipython",
    "version": 3
   },
   "file_extension": ".py",
   "mimetype": "text/x-python",
   "name": "python",
   "nbconvert_exporter": "python",
   "pygments_lexer": "ipython3",
   "version": "3.8.5"
  }
 },
 "nbformat": 4,
 "nbformat_minor": 4
}
